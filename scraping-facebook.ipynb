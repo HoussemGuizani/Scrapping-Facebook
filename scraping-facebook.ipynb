{
 "cells": [
  {
   "cell_type": "markdown",
   "id": "1e8a5c0a",
   "metadata": {},
   "source": [
    "# Install libraries"
   ]
  },
  {
   "cell_type": "code",
   "execution_count": 17,
   "id": "be479171",
   "metadata": {},
   "outputs": [],
   "source": [
    "import warnings; warnings.simplefilter('ignore')"
   ]
  },
  {
   "cell_type": "code",
   "execution_count": 18,
   "id": "b484de8b",
   "metadata": {},
   "outputs": [
    {
     "name": "stdout",
     "output_type": "stream",
     "text": [
      "Requirement already satisfied: selenium in /home/guedri/anaconda3/lib/python3.9/site-packages (4.1.3)\n",
      "Requirement already satisfied: trio-websocket~=0.9 in /home/guedri/anaconda3/lib/python3.9/site-packages (from selenium) (0.9.2)\n",
      "Requirement already satisfied: urllib3[secure,socks]~=1.26 in /home/guedri/anaconda3/lib/python3.9/site-packages (from selenium) (1.26.7)\n",
      "Requirement already satisfied: trio~=0.17 in /home/guedri/anaconda3/lib/python3.9/site-packages (from selenium) (0.20.0)\n",
      "Requirement already satisfied: idna in /home/guedri/anaconda3/lib/python3.9/site-packages (from trio~=0.17->selenium) (3.2)\n",
      "Requirement already satisfied: outcome in /home/guedri/anaconda3/lib/python3.9/site-packages (from trio~=0.17->selenium) (1.1.0)\n",
      "Requirement already satisfied: attrs>=19.2.0 in /home/guedri/anaconda3/lib/python3.9/site-packages (from trio~=0.17->selenium) (21.2.0)\n",
      "Requirement already satisfied: async-generator>=1.9 in /home/guedri/anaconda3/lib/python3.9/site-packages (from trio~=0.17->selenium) (1.10)\n",
      "Requirement already satisfied: sniffio in /home/guedri/anaconda3/lib/python3.9/site-packages (from trio~=0.17->selenium) (1.2.0)\n",
      "Requirement already satisfied: sortedcontainers in /home/guedri/anaconda3/lib/python3.9/site-packages (from trio~=0.17->selenium) (2.4.0)\n",
      "Requirement already satisfied: wsproto>=0.14 in /home/guedri/anaconda3/lib/python3.9/site-packages (from trio-websocket~=0.9->selenium) (1.1.0)\n",
      "Requirement already satisfied: pyOpenSSL>=0.14 in /home/guedri/anaconda3/lib/python3.9/site-packages (from urllib3[secure,socks]~=1.26->selenium) (21.0.0)\n",
      "Requirement already satisfied: cryptography>=1.3.4 in /home/guedri/anaconda3/lib/python3.9/site-packages (from urllib3[secure,socks]~=1.26->selenium) (3.4.8)\n",
      "Requirement already satisfied: certifi in /home/guedri/anaconda3/lib/python3.9/site-packages (from urllib3[secure,socks]~=1.26->selenium) (2021.10.8)\n",
      "Requirement already satisfied: PySocks!=1.5.7,<2.0,>=1.5.6 in /home/guedri/anaconda3/lib/python3.9/site-packages (from urllib3[secure,socks]~=1.26->selenium) (1.7.1)\n",
      "Requirement already satisfied: cffi>=1.12 in /home/guedri/anaconda3/lib/python3.9/site-packages (from cryptography>=1.3.4->urllib3[secure,socks]~=1.26->selenium) (1.14.6)\n",
      "Requirement already satisfied: six>=1.5.2 in /home/guedri/anaconda3/lib/python3.9/site-packages (from pyOpenSSL>=0.14->urllib3[secure,socks]~=1.26->selenium) (1.12.0)\n",
      "Requirement already satisfied: h11<1,>=0.9.0 in /home/guedri/anaconda3/lib/python3.9/site-packages (from wsproto>=0.14->trio-websocket~=0.9->selenium) (0.13.0)\n",
      "Requirement already satisfied: pycparser in /home/guedri/anaconda3/lib/python3.9/site-packages (from cffi>=1.12->cryptography>=1.3.4->urllib3[secure,socks]~=1.26->selenium) (2.20)\n",
      "\u001b[33mWARNING: You are using pip version 22.0.3; however, version 22.0.4 is available.\n",
      "You should consider upgrading via the '/home/guedri/anaconda3/bin/python -m pip install --upgrade pip' command.\u001b[0m\u001b[33m\n",
      "\u001b[0mRequirement already satisfied: pymongo in /home/guedri/anaconda3/lib/python3.9/site-packages (4.1.0)\n",
      "\u001b[33mWARNING: You are using pip version 22.0.3; however, version 22.0.4 is available.\n",
      "You should consider upgrading via the '/home/guedri/anaconda3/bin/python -m pip install --upgrade pip' command.\u001b[0m\u001b[33m\n",
      "\u001b[0m"
     ]
    }
   ],
   "source": [
    "!pip install selenium\n",
    "!pip install pymongo"
   ]
  },
  {
   "cell_type": "markdown",
   "id": "a6aed1e5",
   "metadata": {},
   "source": [
    "# Import packages"
   ]
  },
  {
   "cell_type": "code",
   "execution_count": 4,
   "id": "45909b88",
   "metadata": {},
   "outputs": [
    {
     "name": "stdout",
     "output_type": "stream",
     "text": [
      "Importing packages (done)\n"
     ]
    }
   ],
   "source": [
    "from selenium import webdriver\n",
    "from selenium.webdriver.common.keys import Keys\n",
    "from selenium.webdriver.support import expected_conditions as EC\n",
    "from selenium.webdriver.common.by import By\n",
    "from selenium.webdriver.support.wait import WebDriverWait\n",
    "\n",
    "import pymongo\n",
    "from pymongo import MongoClient\n",
    "\n",
    "from bs4 import BeautifulSoup\n",
    "from time import sleep\n",
    "import csv\n",
    "import numpy as np\n",
    "\n",
    "print('Importing packages (done)')"
   ]
  },
  {
   "cell_type": "markdown",
   "id": "8d2035ad",
   "metadata": {},
   "source": [
    "# Disable Alerts/Notifications on the driver"
   ]
  },
  {
   "cell_type": "code",
   "execution_count": 5,
   "id": "f12ebbe8",
   "metadata": {},
   "outputs": [
    {
     "name": "stdout",
     "output_type": "stream",
     "text": [
      "Notifications are disabled\n"
     ]
    }
   ],
   "source": [
    "chrome_options = webdriver.ChromeOptions()\n",
    "prefs = {\"profile.default_content_setting_values.notifications\" : 2}\n",
    "chrome_options.add_experimental_option(\"prefs\",prefs)\n",
    "print('Notifications are disabled')"
   ]
  },
  {
   "cell_type": "markdown",
   "id": "82235b2c",
   "metadata": {},
   "source": [
    "# Login to Facebook"
   ]
  },
  {
   "cell_type": "code",
   "execution_count": 19,
   "id": "5aa2207b",
   "metadata": {},
   "outputs": [
    {
     "name": "stdout",
     "output_type": "stream",
     "text": [
      "Initializing a driver (done)\n",
      "Importing the login credentials (done)\n",
      "Input email (done)\n",
      "Input password (done)\n",
      "Login to facebook (done)\n"
     ]
    }
   ],
   "source": [
    "# Open Chrome and Access Facebook login site\n",
    "driver = webdriver.Chrome(\"/usr/bin/chromedriver\",chrome_options=chrome_options)\n",
    "sleep(2)\n",
    "url = 'https://www.facebook.com'\n",
    "driver.get(url)\n",
    "print('Initializing a driver (done)')\n",
    "sleep(2)\n",
    "\n",
    "# Import email and password\n",
    "credential = open('credentials.txt')\n",
    "\n",
    "line = credential.readlines()\n",
    "email = line[0]\n",
    "password = line[1]\n",
    "print('Importing the login credentials (done)')\n",
    "sleep(2)\n",
    "\n",
    "# Input the login credentials\n",
    "email_field = driver.find_element_by_id('email')\n",
    "email_field.send_keys(email)\n",
    "print('Input email (done)')\n",
    "sleep(3)\n",
    "\n",
    "password_field = driver.find_element_by_id('pass')\n",
    "password_field.send_keys(password)\n",
    "print('Input password (done)')\n",
    "sleep(3)\n",
    "\n",
    "print('Login to facebook (done)')"
   ]
  },
  {
   "cell_type": "markdown",
   "id": "70f9bb7f",
   "metadata": {},
   "source": [
    "# Search for the subject we want to scrape"
   ]
  },
  {
   "cell_type": "code",
   "execution_count": 20,
   "id": "ae116a0b",
   "metadata": {},
   "outputs": [
    {
     "name": "stdout",
     "output_type": "stream",
     "text": [
      "What subject do you want to scrape? Elections in france\n",
      "Search (done)\n"
     ]
    }
   ],
   "source": [
    "# Locate the search bar element\n",
    "search_field = driver.find_element_by_xpath('/html/body/div[1]/div/div[1]/div/div[2]/div[2]/div/div/div/div/div/label/input')\n",
    "\n",
    "# Input the search query to the search bar\n",
    "search_query = input('What subject do you want to scrape? ')\n",
    "search_field.send_keys(search_query)\n",
    "\n",
    "# Search\n",
    "search_field.send_keys(Keys.RETURN)\n",
    "\n",
    "print('Search (done)')"
   ]
  },
  {
   "cell_type": "code",
   "execution_count": 21,
   "id": "180a86ab",
   "metadata": {},
   "outputs": [
    {
     "name": "stdout",
     "output_type": "stream",
     "text": [
      "Filtering search (done)\n"
     ]
    }
   ],
   "source": [
    "# Select posts(publications) as a filter of search\n",
    "\n",
    "current_url = driver.current_url\n",
    "if len(current_url.split('top'))==2:\n",
    "    posts_page_url = current_url.split('top')[0]+'posts'+current_url.split('top')[1]\n",
    "    driver.get(posts_page_url)\n",
    "sleep(3)\n",
    "print('Filtering search (done)')"
   ]
  },
  {
   "cell_type": "markdown",
   "id": "6b086cb7",
   "metadata": {},
   "source": [
    "# Scrape the URLs of the posts"
   ]
  },
  {
   "cell_type": "code",
   "execution_count": 22,
   "id": "9572e6e6",
   "metadata": {},
   "outputs": [
    {
     "name": "stdout",
     "output_type": "stream",
     "text": [
      "Scrape URLs (done)\n"
     ]
    }
   ],
   "source": [
    "# Scroll with infinite loading to the end of the page\n",
    "last_height = driver.execute_script(\"return document.body.scrollHeight\") # Get scroll height\n",
    "while True:\n",
    "    # Scroll down to bottom\n",
    "    driver.execute_script(\"window.scrollTo(0, document.body.scrollHeight);\")\n",
    "\n",
    "    # Wait to load page\n",
    "    sleep(2)\n",
    "\n",
    "    # Calculate new scroll height and compare with last scroll height\n",
    "    new_height = driver.execute_script(\"return document.body.scrollHeight\")\n",
    "    if new_height == last_height:\n",
    "        break\n",
    "    last_height = new_height\n",
    "\n",
    "# Navigate through the actually page, and extract the URL of each post\n",
    "page_source = BeautifulSoup(driver.page_source)\n",
    "urls = page_source.find_all('a')\n",
    "all_posts_URLs = []\n",
    "for post in urls:\n",
    "    post_URL = post.get('href')\n",
    "    if \"https://www.facebook.com/\" in post_URL and \"/posts/\" in post_URL:\n",
    "        post_URL = post_URL.split('www')[0]+'mbasic'+post_URL.split('www')[1]\n",
    "        if post_URL not in all_posts_URLs:\n",
    "            all_posts_URLs.append(post_URL)\n",
    "\n",
    "print('Scrape URLs (done)')"
   ]
  },
  {
   "cell_type": "code",
   "execution_count": 23,
   "id": "7718ab95",
   "metadata": {},
   "outputs": [
    {
     "data": {
      "text/plain": [
       "['https://mbasic.facebook.com/MoumniMahmoud/posts/3039083066359358?from_close_friend=1&notif_id=1649282550945232&notif_t=close_friend_activity&ref=notif',\n",
       " 'https://mbasic.facebook.com/thomasguenoleb/posts/502193831366444?__cft__[0]=AZUvXX-OkmfQ75yxQ-e4Y6k83ubMbVwgFtFbfehpVSMd2gSa1us05-JAawQurpgNSuLB1-93zyvI_zfKCtK0o1JtdpwVotZTtjGFMRRNTD4VWsDPKHVFFVdBf2DknL1lUyA&__tn__=%2CO%2CP-R',\n",
       " 'https://mbasic.facebook.com/euronews/posts/10159241854133110?__cft__[0]=AZVotcdscEkz1Lz2jXgPm4hsnKQyYdUjlJHjC8vntDIhSLd4POtV3F26qLQxytWpG00JTpOzRY9U_NCvsgZ4z3E4GQsG8iCzDIijF17NBFn9Tli9LkIE4dFctmJIDS2GVB4&__tn__=%2CO%2CP-R',\n",
       " 'https://mbasic.facebook.com/groups/352181896150872/posts/723129079056150/?__cft__[0]=AZXPTSP8ONLrlNlFIRqj5rPvQJc7obghZjPc2ZyLPBc7K1KDu4Cv00q4wzoavkXDGr6zgOzaYSJqImSB9E--I7gNi6xK2kk5H_Z4FjGdpjJjpMcKMa1VOPXwE3-7E0eDOrPT7feE5eWtslXo3arSDcS4&__tn__=%2CO%2CP-R',\n",
       " 'https://mbasic.facebook.com/Reuters/posts/5558426110844366?__cft__[0]=AZVZVgMwK0546gHaRYC0Ly56wvHmGcP93YwUp1m-aMSCchsWmaJ16BB9yhLZWtBubpEfyso8o7dBaimbfy6Zi3O1tsm_9noa7Krmp0VZpx-08XlXa3tSsdsrjXXlcKfWqPc&__tn__=%2CO%2CP-R',\n",
       " 'https://mbasic.facebook.com/trtworld/posts/348038634025051?__cft__[0]=AZXecXc9FukT0a2iGPIy8c2iepfgKefQ-spRy7VIPiYRPP_yCE5SRxW3sgIxzYZXXKzDH3NnHGaLNAV_A0iUbsbuF9NP-r2KNqDGNjYAssV9Zr6pS-pip21JL1S5vGjlGyof89LhKmeJ_yBexjghxhHu&__tn__=%2CO%2CP-R',\n",
       " 'https://mbasic.facebook.com/groups/554382998358983/posts/1428151694315438/?__cft__[0]=AZUH7MBCHjgE_5wJ3xgE5bgI3UIXbWXkgpdL95kryEM8plKeOTBj1rg9Auvm7IZ2P-NjIl8_UAyguRgiINCW8ppBt4sGIflWGjd2xukvwQ5MukBSmgo9FJo8z4Ea0jAe_jPRE2R9h_iyESvfPPF5K8Ip&__tn__=%2CO%2CP-R']"
      ]
     },
     "execution_count": 23,
     "metadata": {},
     "output_type": "execute_result"
    }
   ],
   "source": [
    "all_posts_URLs"
   ]
  },
  {
   "cell_type": "markdown",
   "id": "c4d4f9a5",
   "metadata": {},
   "source": [
    "# Scrape the data of Posts and save it into MongoDB"
   ]
  },
  {
   "cell_type": "code",
   "execution_count": 24,
   "id": "ba562e27",
   "metadata": {},
   "outputs": [
    {
     "name": "stdout",
     "output_type": "stream",
     "text": [
      "Database(MongoClient(host=['localhost:27017'], document_class=dict, tz_aware=False, connect=True), 'fbScraper')\n"
     ]
    }
   ],
   "source": [
    "# Prepare the database MongoDB\n",
    "\n",
    "client = pymongo.MongoClient(\"localhost\", 27017)\n",
    "db = client.fbScraper\n",
    "print(db)"
   ]
  },
  {
   "cell_type": "code",
   "execution_count": 25,
   "id": "f6e75204",
   "metadata": {},
   "outputs": [],
   "source": [
    "def getCommentsElements(comments_bloc):\n",
    "    divs = comments_bloc.find_elements_by_tag_name(\"div\")\n",
    "    divs_childs=[]\n",
    "    dlist=[]\n",
    "    \n",
    "    for div in divs:\n",
    "        divs_childs = div.find_elements_by_tag_name(\"div\")\n",
    "        if len(divs_childs)>0:\n",
    "            return divs_childs"
   ]
  },
  {
   "cell_type": "code",
   "execution_count": 26,
   "id": "f9b0ae23",
   "metadata": {},
   "outputs": [
    {
     "name": "stdout",
     "output_type": "stream",
     "text": [
      "Accessing post:  https://mbasic.facebook.com/MoumniMahmoud/posts/3039083066359358?from_close_friend=1&notif_id=1649282550945232&notif_t=close_friend_activity&ref=notif\n",
      "Accessing post:  https://mbasic.facebook.com/thomasguenoleb/posts/502193831366444?__cft__[0]=AZUvXX-OkmfQ75yxQ-e4Y6k83ubMbVwgFtFbfehpVSMd2gSa1us05-JAawQurpgNSuLB1-93zyvI_zfKCtK0o1JtdpwVotZTtjGFMRRNTD4VWsDPKHVFFVdBf2DknL1lUyA&__tn__=%2CO%2CP-R\n",
      "Accessing post:  https://mbasic.facebook.com/euronews/posts/10159241854133110?__cft__[0]=AZVotcdscEkz1Lz2jXgPm4hsnKQyYdUjlJHjC8vntDIhSLd4POtV3F26qLQxytWpG00JTpOzRY9U_NCvsgZ4z3E4GQsG8iCzDIijF17NBFn9Tli9LkIE4dFctmJIDS2GVB4&__tn__=%2CO%2CP-R\n",
      "Accessing post:  https://mbasic.facebook.com/groups/352181896150872/posts/723129079056150/?__cft__[0]=AZXPTSP8ONLrlNlFIRqj5rPvQJc7obghZjPc2ZyLPBc7K1KDu4Cv00q4wzoavkXDGr6zgOzaYSJqImSB9E--I7gNi6xK2kk5H_Z4FjGdpjJjpMcKMa1VOPXwE3-7E0eDOrPT7feE5eWtslXo3arSDcS4&__tn__=%2CO%2CP-R\n",
      "Accessing post:  https://mbasic.facebook.com/Reuters/posts/5558426110844366?__cft__[0]=AZVZVgMwK0546gHaRYC0Ly56wvHmGcP93YwUp1m-aMSCchsWmaJ16BB9yhLZWtBubpEfyso8o7dBaimbfy6Zi3O1tsm_9noa7Krmp0VZpx-08XlXa3tSsdsrjXXlcKfWqPc&__tn__=%2CO%2CP-R\n",
      "Accessing post:  https://mbasic.facebook.com/trtworld/posts/348038634025051?__cft__[0]=AZXecXc9FukT0a2iGPIy8c2iepfgKefQ-spRy7VIPiYRPP_yCE5SRxW3sgIxzYZXXKzDH3NnHGaLNAV_A0iUbsbuF9NP-r2KNqDGNjYAssV9Zr6pS-pip21JL1S5vGjlGyof89LhKmeJ_yBexjghxhHu&__tn__=%2CO%2CP-R\n",
      "Accessing post:  https://mbasic.facebook.com/groups/554382998358983/posts/1428151694315438/?__cft__[0]=AZUH7MBCHjgE_5wJ3xgE5bgI3UIXbWXkgpdL95kryEM8plKeOTBj1rg9Auvm7IZ2P-NjIl8_UAyguRgiINCW8ppBt4sGIflWGjd2xukvwQ5MukBSmgo9FJo8z4Ea0jAe_jPRE2R9h_iyESvfPPF5K8Ip&__tn__=%2CO%2CP-R\n",
      "Scraping (done)\n"
     ]
    }
   ],
   "source": [
    "# Scrape the data of Posts\n",
    "\n",
    "posts=[]\n",
    "comments=[]\n",
    "\n",
    "for post_URL in all_posts_URLs:\n",
    "    sleep(3)\n",
    "    driver.get(post_URL)\n",
    "    print('Accessing post: ', post_URL)\n",
    "\n",
    "    sleep(3)\n",
    "    \n",
    "    # Extract text from post\n",
    "    try:\n",
    "        text = \"\"\n",
    "        text_element = driver.find_element_by_xpath(\"//div[@class='bb']\")\n",
    "        text_childs = text_element.find_elements_by_tag_name(\"div\")\n",
    "        for child in text_childs:\n",
    "            text = text + child.text\n",
    "        post={\n",
    "            \"subject\":search_query,\n",
    "            \"text\":text,\n",
    "            \"post_url\":post_URL\n",
    "        }\n",
    "        db[\"post\"].insert_one(post)\n",
    "    except:\n",
    "        text = np.nan\n",
    "    \n",
    "    # Extract comments\n",
    "    try:\n",
    "        comments_id = \"ufi_\" + post_URL.split('/posts/')[1]\n",
    "        comments_bloc = driver.find_element_by_id(comments_id)\n",
    "        \n",
    "        see_prev_id = \"see_prev_\" + post_URL.split('/posts/')[1]\n",
    "        see_next_id = \"see_next_\" + post_URL.split('/posts/')[1]\n",
    "\n",
    "        for i in getCommentsElements(comments_bloc):\n",
    "            divs = i.find_elements_by_tag_name(\"div\")\n",
    "            if len(divs)>0:\n",
    "                for div in divs:\n",
    "                    dlist = div.find_elements_by_tag_name(\"div\")\n",
    "                    for d in dlist:\n",
    "                        if len(d.get_attribute(\"class\").split(\" \")) == 1:\n",
    "                            comment = {\n",
    "                            \"subject\": search_query,\n",
    "                            \"post_url\": post_URL,\n",
    "                            \"text\": d.text\n",
    "                            }\n",
    "                            db[\"comment\"].insert_one(comment)\n",
    "    except:\n",
    "        pass\n",
    "        \n",
    "    sleep(3)\n",
    "    driver.execute_script(\"window.scrollTo(0, 1000)\")\n",
    "        \n",
    "    sleep(5)\n",
    "print(\"Scraping (done)\")"
   ]
  },
  {
   "cell_type": "markdown",
   "id": "dd2368d1",
   "metadata": {},
   "source": [
    "# Get the data from MongoDB"
   ]
  },
  {
   "cell_type": "code",
   "execution_count": 27,
   "id": "74af8753",
   "metadata": {},
   "outputs": [
    {
     "name": "stdout",
     "output_type": "stream",
     "text": [
      "{'_id': ObjectId('62506d741a08b23f57b14264'), 'subject': 'le décès du président Jacques Chirac', 'text': '😞❤️😞❤️', 'post_url': 'https://mbasic.facebook.com/MoumniMahmoud/posts/3039083066359358?from_close_friend=1&notif_id=1649282550945232&notif_t=close_friend_activity&ref=notif'}\n",
      "{'_id': ObjectId('62506d851a08b23f57b14265'), 'subject': 'le décès du président Jacques Chirac', 'text': 'Afficher l’historique des modificationsCharles Millon, ancien ministre de la Défense du président Jacques Chirac, allume Alassane Ouattara et Jean-Yves Le Drian dans mondafrique.com sur le MALI 🇲🇱\\n🔸Mondafrique: Le président ivoirien Ouattara a déclaré jeudi matin sur RFI et France 24 qu’il demandait « à ses frères maliens de faire un effort, de rentrer dans les rangs ». Est ce que vous lui donnez raison ?\\n🔹Charles Millon: Il faudrait rappeler à Monsieur Ouattara qui remet en cause la légitimité de la junte militaire à Bamako qu’il bénéficie d’un troisième mandat illégitime et non constitutionnel. Qu’il nettoie devant sa porte avant de donner des conseils aux autres.\\n🔸Mondafrique: Que pensez vous de la politique étrangère d’Emmanuel Macron et de Jean Yves Le Drian, son ministre des Affaires Etrangères ?\\n🔹Charles Millon: Le Drian est surtout médiocre et il n’a pas l’air de s’intéresser aux Africains et à l’Afrique. Sans doute n’est-il pas facile de travailler avec un Emmanuel Macron qui veut toujours prendre la lumière.\\nCe que je reproche au Président français au Mali comme au Liban ou en Ukraine, c’est de faire une politique de coups, sans suivi, ni constance. Cette fâcheuse habitude est totalement contre productive. La diplomatie se joue dans la durée et dans des liens de confiance avec nos interlocuteurs étrangers. C’est long, très long.\\nLa politique d’Emmanuel Macron et de Jean Yves Le Drian est finalement illisible. Comment en même temps, selon l’expression consacrée du président français, dénoncer les coups d’état en Guinée ou au Mali et apporter un soutien total au fils du président Déby qui prend le pouvoir par la force après le décès brutal de son père ?\\nEmmanuel Macon a des réactions d’adolescent. Ce n’est pas ainsi qu’on doit construire la politique étrangère d’un pays comme la France.Charles Millon, ancien ministre de la Défense du président Jacques Chirac, allume Alassane Ouattara et Jean-Yves Le Drian dans mondafrique.com sur le MALI 🇲🇱\\n🔸Mondafrique: Le président ivoirien Ouattara a déclaré jeudi matin sur RFI et France 24 qu’il demandait « à ses frères maliens de faire un effort, de rentrer dans les rangs ». Est ce que vous lui donnez raison ?\\n🔹Charles Millon: Il faudrait rappeler à Monsieur Ouattara qui remet en cause la légitimité de la junte militaire à Bamako qu’il bénéficie d’un troisième mandat illégitime et non constitutionnel. Qu’il nettoie devant sa porte avant de donner des conseils aux autres.\\n🔸Mondafrique: Que pensez vous de la politique étrangère d’Emmanuel Macron et de Jean Yves Le Drian, son ministre des Affaires Etrangères ?\\n🔹Charles Millon: Le Drian est surtout médiocre et il n’a pas l’air de s’intéresser aux Africains et à l’Afrique. Sans doute n’est-il pas facile de travailler avec un Emmanuel Macron qui veut toujours prendre la lumière.\\nCe que je reproche au Président français au Mali comme au Liban ou en Ukraine, c’est de faire une politique de coups, sans suivi, ni constance. Cette fâcheuse habitude est totalement contre productive. La diplomatie se joue dans la durée et dans des liens de confiance avec nos interlocuteurs étrangers. C’est long, très long.\\nLa politique d’Emmanuel Macron et de Jean Yves Le Drian est finalement illisible. Comment en même temps, selon l’expression consacrée du président français, dénoncer les coups d’état en Guinée ou au Mali et apporter un soutien total au fils du président Déby qui prend le pouvoir par la force après le décès brutal de son père ?\\nEmmanuel Macon a des réactions d’adolescent. Ce n’est pas ainsi qu’on doit construire la politique étrangère d’un pays comme la France.', 'post_url': 'https://mbasic.facebook.com/OvajabMediaLLC/posts/4813725855389802?__cft__[0]=AZVc20CLipIRBRLMJAsDNigvChhdVq3XupWrKiy0yPLrxeKoRggQ8k7N0VMaVZGBjchW2GqMVhvg2mpJtG3b35Au-QkRbuIT_hIHPcs2A81o7wMHH6IdmIPg-y-3KwMJ0W4&__tn__=%2CO%2CP-R'}\n",
      "{'_id': ObjectId('62506d951a08b23f57b14266'), 'subject': 'le décès du président Jacques Chirac', 'text': \"Afficher l’historique des modificationsLADF, profondément attristé après l'annonce du décès de Jacques CHIRAC, ancien Président de la République de France.LADF, profondément attristé après l'annonce du décès de Jacques CHIRAC, ancien Président de la République de France.\", 'post_url': 'https://mbasic.facebook.com/LADFInfos/posts/132825348079140?__cft__[0]=AZUPGVmmhgxR10qHWthPURjnc_PZoIEd1pgLSrOGx7hS-8V9fkz4RdqATO12Rp9XVyWjDwnz0Geeic1Lld-Cre6hgos99vV3f173dXdJdDpCZAhjFWDHUXpJ4DVWkVqpRUw&__tn__=%2CO%2CP-R'}\n",
      "{'_id': ObjectId('62506da41a08b23f57b14267'), 'subject': 'le décès du président Jacques Chirac', 'text': \"Afficher l’historique des modifications🇫🇷 L’ancien président Jacques Chirac est décédé.\\nSuivez notre édition spéciale en direct ➡️ https://f24.my/5Z30.f🇫🇷 L’ancien président Jacques Chirac est décédé.\\nSuivez notre édition spéciale en direct ➡️ https://f24.my/5Z30.fDécès de l'ancien président français Jacques Chirac\\nfrance24.com\\nEn savoir plusDécès de l'ancien président français Jacques Chirac\\nfrance24.com\\nEn savoir plusDécès de l'ancien président français Jacques Chirac\\nfrance24.com\\nEn savoir plusfrance24.comEn savoir plusEn savoir plus\", 'post_url': 'https://mbasic.facebook.com/FRANCE24/posts/10157122109541936?__cft__[0]=AZVlDQ35pSZWW7N0oH69KcPVjZPlYFw1jey4_oci8pctAA2w7LNkr6g-qCLAy0iMQOAplU_ePcK9WAR2ACz9hcywXi2sakvJ1iJ8RO_ldoxF9eaihYhjOf4QR7WrqU4mdiZX1aRdglBpuE_fZp5_h-Q3&__tn__=%2CO%2CP-R'}\n",
      "{'_id': ObjectId('62506db31a08b23f57b14268'), 'subject': 'le décès du président Jacques Chirac', 'text': 'Charles Millon, ex ministre de la défense de Jacques Chirac\\n\" Le Drian est surtout médiocre et il n\\'a pas l\\'air de s\\'intéresser aux Africains et à l\\'Afrique. Sans doute n\\'est-il pas facile de travailler avec un Emmanuel Macron qui veut toujours prendre la lumière.\\nCe que je reproche au Président français au Mali comme en Liban ou en Ukraine, c\\'est de faire une politique de coups, sans suivi, ni constance. Cette fâcheuse habitude est totalement contre productive. La diplomatie se joue dans la durée et dans des liens de confiance avec nos interlocuteurs étrangers. C\\'est long, très long.\\nLa politique d\\'Emmanuel Macron et de Jean Yves Le Drian est finalement illisible. Comment en même temps, selon l\\'expression consacrée du président français, dénoncer les coups d\\'État en Guinée ou au Mali et apporter un soutien total au fils du président Deby qui prend le pouvoir par la force après le décès brutal de son père ?\\nEmmanuel Macron a des réactions d\\'adolescent. Ce n\\'est pas ainsi qu\\'on doit construire la politique étrangère d\\'un pays comme la France \".Charles Millon, ex ministre de la défense de Jacques Chirac\\n\" Le Drian est surtout médiocre et il n\\'a pas l\\'air de s\\'intéresser aux Africains et à l\\'Afrique. Sans doute n\\'est-il pas facile de travailler avec un Emmanuel Macron qui veut toujours prendre la lumière.\\nCe que je reproche au Président français au Mali comme en Liban ou en Ukraine, c\\'est de faire une politique de coups, sans suivi, ni constance. Cette fâcheuse habitude est totalement contre productive. La diplomatie se joue dans la durée et dans des liens de confiance avec nos interlocuteurs étrangers. C\\'est long, très long.\\nLa politique d\\'Emmanuel Macron et de Jean Yves Le Drian est finalement illisible. Comment en même temps, selon l\\'expression consacrée du président français, dénoncer les coups d\\'État en Guinée ou au Mali et apporter un soutien total au fils du président Deby qui prend le pouvoir par la force après le décès brutal de son père ?\\nEmmanuel Macron a des réactions d\\'adolescent. Ce n\\'est pas ainsi qu\\'on doit construire la politique étrangère d\\'un pays comme la France \".', 'post_url': 'https://mbasic.facebook.com/hrn.sana.9/posts/1685958385080322?__cft__[0]=AZWjiGuPxZb5suVXULvYrCy27sklBlsMeHvLmwO3n8chluIYVTuYVOIaDHCJ-1DoUQ2BekhICc_q566BGQVDABsbXnT6gA1asX18lTWPCqPMrQ&__tn__=%2CO%2CP-R'}\n",
      "{'_id': ObjectId('62506dc31a08b23f57b14269'), 'subject': 'le décès du président Jacques Chirac', 'text': \"Afficher l’historique des modificationsAu revoir Président. On a appris ce matin le décès de Jacques Chirac à l'âge de 86 ans.Au revoir Président. On a appris ce matin le décès de Jacques Chirac à l'âge de 86 ans.\", 'post_url': 'https://mbasic.facebook.com/caradisiac/posts/10156695199493786?__cft__[0]=AZVfDQaiN4Ex-t-Ox3KNhtqr5vNn-KMX_OEuhX6yWcDrpitcK32Knw0Krx5j-WOzNW39EX5eJ3oFvXR34jYULjNGIZTCMeeZ_3yP6GTXOigRIagKJQq05PKHdcrxiRAtRj8&__tn__=%2CO%2CP-R'}\n",
      "{'_id': ObjectId('62506dd21a08b23f57b1426a'), 'subject': 'le décès du président Jacques Chirac', 'text': \"Afficher l’historique des modificationsC'est avec une grande tristesse que je viens d'apprendre le décès d'un grand homme politique Jacques Chirac.\\nIl a été un Président généreux et visionnaire sur l’état de la planète, apprécié et respecté pendant 12 années.\\nJ'adresse mes plus sincères condoléances à tous ses proches.C'est avec une grande tristesse que je viens d'apprendre le décès d'un grand homme politique Jacques Chirac.\\nIl a été un Président généreux et visionnaire sur l’état de la planète, apprécié et respecté pendant 12 années.\\nJ'adresse mes plus sincères condoléances à tous ses proches.\", 'post_url': 'https://mbasic.facebook.com/laurence.trastour/posts/2708540262513842?__cft__[0]=AZUcqHS_cVkdwJY580JZy3vI2e3NbhSn-DvSQGQ0qSRI84kAds7dg_rw6keM5O6Tlx1qqnjqkORfii9gFgczD_Yp4MnivspM1SHqceVAXxJwsA&__tn__=%2CO%2CP-R'}\n",
      "{'_id': ObjectId('62506de21a08b23f57b1426b'), 'subject': 'le décès du président Jacques Chirac', 'text': \"Afficher l’historique des modifications📢 Anniversaire du décès de Jacques Chirac, le 26 septembre 2019.\\n👉 L'ancien chef de l'État Jacques Chirac est mort à l'âge de 86 ans. Président de la République entre 1995 et 2007, il n'avait plus fait d'apparition publique depuis 2014. Outre ces deux mandats, il a été Premier ministre de François Mitterrand et de Valéry Giscard d'Estaing.\\n.\\n.\\n.\\n.\\n.\\n#gendarmerie #gendarmerienationale #gendarmeriemobile #police #policemunicipale #policenationale #armee #armeedeterre #armeedelair #armeefrancaise #tacticalequipment #pompier #airsoft #airsoftfrance #paintball #paintballfrance #securite #equipement #militaire #tactique #tacticaloutfit #jacqueschirac #presidentdelarepublique📢 Anniversaire du décès de Jacques Chirac, le 26 septembre 2019.\\n👉 L'ancien chef de l'État Jacques Chirac est mort à l'âge de 86 ans. Président de la République entre 1995 et 2007, il n'avait plus fait d'apparition publique depuis 2014. Outre ces deux mandats, il a été Premier ministre de François Mitterrand et de Valéry Giscard d'Estaing.\\n.\\n.\\n.\\n.\\n.\\n#gendarmerie #gendarmerienationale #gendarmeriemobile #police #policemunicipale #policenationale #armee #armeedeterre #armeedelair #armeefrancaise #tacticalequipment #pompier #airsoft #airsoftfrance #paintball #paintballfrance #securite #equipement #militaire #tactique #tacticaloutfit #jacqueschirac #presidentdelarepublique\", 'post_url': 'https://mbasic.facebook.com/generalarmystore/posts/3237908126292585?__cft__[0]=AZUH81dgYHiuG__kuFIzPkYpX529_ybnfdp7PWscXqHSl16ZdKX0JmHfusLGhBMKyS7bxphAMjUCpaJH9i8ds6uZGVin1HPs55L1lMa-wHmnVB8fPkvLpmeETDHcdwUXYDE&__tn__=%2CO%2CP-R'}\n",
      "{'_id': ObjectId('62506df11a08b23f57b1426c'), 'subject': 'le décès du président Jacques Chirac', 'text': 'Afficher l’historique des modifications« Le Drian est surtout médiocre et il n’a pas l’air de s’intéresser aux Africains et à l’Afrique.\\nSans doute n’est-il pas facile de travailler avec un Emmanuel Macron qui veut toujours prendre la lumière.\\nCe que je reproche au Président français au Mali comme au Liban ou en Ukraine, c’est de faire une politique de coups, sans suivi, ni constance.\\nCette fâcheuse habitude est totalement contre productive.\\nLa diplomatie se joue dans la durée et dans des liens de confiance avec nos interlocuteurs étrangers.\\nC’est long, très long.\\nLa politique d’Emmanuel Macron et de Jean Yves Le Drian est finalement illisible. Comment en même temps, selon l’expression consacrée du président français, dénoncer les coups d’état en Guinée ou au Mali et apporter un soutien total au fils du président Déby qui prend le pouvoir par la force après le décès brutal de son père ?\\nEmmanuel Macron a des réactions d’adolescent. Ce n’est pas ainsi qu’on doit construire la politique étrangère d’un pays comme la France.»\\n#Charles_Millon, ancien ministre de la Défense de Jacques Chirac« Le Drian est surtout médiocre et il n’a pas l’air de s’intéresser aux Africains et à l’Afrique.\\nSans doute n’est-il pas facile de travailler avec un Emmanuel Macron qui veut toujours prendre la lumière.\\nCe que je reproche au Président français au Mali comme au Liban ou en Ukraine, c’est de faire une politique de coups, sans suivi, ni constance.\\nCette fâcheuse habitude est totalement contre productive.\\nLa diplomatie se joue dans la durée et dans des liens de confiance avec nos interlocuteurs étrangers.\\nC’est long, très long.\\nLa politique d’Emmanuel Macron et de Jean Yves Le Drian est finalement illisible. Comment en même temps, selon l’expression consacrée du président français, dénoncer les coups d’état en Guinée ou au Mali et apporter un soutien total au fils du président Déby qui prend le pouvoir par la force après le décès brutal de son père ?\\nEmmanuel Macron a des réactions d’adolescent. Ce n’est pas ainsi qu’on doit construire la politique étrangère d’un pays comme la France.»\\n#Charles_Millon, ancien ministre de la Défense de Jacques Chirac', 'post_url': 'https://mbasic.facebook.com/Tonzeratou39/posts/353570113441212?__cft__[0]=AZWqYff_Mtgc5Kgok3JE4m8SIOmVBh6hpAe1m0oA9pz4TTs-xVZcokq42mXmyHMqLeVZXP4tdE0iE7Nu7GVQqgpUOD9MtmsbjZtM5P-uBBvP5lUe4kH4QOa7HLjkAkjA5_Q&__tn__=%2CO%2CP-R'}\n",
      "{'_id': ObjectId('62506e001a08b23f57b1426d'), 'subject': 'le décès du président Jacques Chirac', 'text': 'Le Président Touadéra et son nouveau Premier Ministre ont-t-ils une obligation constitutionnelle de former un nouveau Gouvernement ?\\nAprès avoir mis fins aux fonctions de Premier ministre de Monsieur Henri Marie Dondra, le Président de la République a nommé Monsieur Felix MOLOUA comme Chef du Gouvernement aux fins d’assurer lesdites fonctions. Suite à cette nomination, des commentaires et analyses se sont alliés bon train, tant de la part des praticiens du droit que des simples citoyens. J’ai été abordé par plusieurs personnes sollicitant mon avis de Constitutionnaliste, tant au bureau que dans les rues ou par téléphone. Je félicite le public centrafricain pour cet engouement et cette volonté qui vise à ne pas céder à la manipulation délibérée de certaines personnes guidées par leurs intérêts égoïstes.\\nLa question posée ici est celle de savoir si juridiquement le Président Touadéra et son nouveau Premier Ministre ont-t-ils une obligation de former un nouveau Gouvernement ou non. D’emblée , pour répondre à certains compatriotes sur le fondement d’une telle nomination qui, selon eux, a l’allure d’un certain copinage alors qu’il y a des compétences dans l’opposition, je dis que la Constitution du 30 mars 2016 est le texte fondamental en République Centrafricaine. Cette Constitution est l’émanation de la volonté du Peuple Centrafricain qui en est le pouvoir constituant originaire, car ce peuple l’a librement adoptée par référendum le 27 décembre 2015 à travers la voie des urnes.\\nC’est le Peuple Centrafricain qui est le véritable détenteur du pouvoir, le Président de la République n’est, en des termes plus banales, qu’un garçon de courses à disposition du Peuple et il reste toujours et généralement un garçon de courses à qui l’on demande beaucoup et est toujours incompris, malheureusement. Chaque acte posé par le Chef de l’Etat doit être conforme à la Constitution sinon son acte fera l’objet d’un recours en contrôle de constitutionnalité. Ce qu’il faudrait noter est que la nomination du nouveau Premier ministre est conforme à Constitution, il n’y a rien de copinage et nous allons voir pourquoi.\\nEn effet , c’est sur la base de cette Constitution que mon avis est fondé sur chacune de vos questions ainsi qu’il suit :\\n1. La condition sine qua non pour nommer un Premier Ministre en RCA\\nIl n’y a qu’une seule manière de devenir Premier ministre, c’est par la nomination quelque soit la borne politique. La République Centrafricaine est un pays à régime semi-présidentiel. En conséquence, pour nommer le Premier ministre, le Chef de l’Etat doit préalablement tenir compte de la majorité à l’Assemblée Nationale.\\nSi la majorité à l’Assemblée Nationale est détenue par les partis politiques d’opposition et leurs alliés, c’est à eux de proposer le Premier ministre et le Président de la République va tout simplement prendre un décret pour le nommer. Le pays va vivre une période de cohabitation, car les deux têtes de l’exécutif ne sont pas issues du même borne politique. La France a déjà vécu cette situation avec le président Mitterand et Jacques Chirac comme Premier ministre, et aussi avec Jacques Chirac lorsqu’il était président et Lionel Jospin comme Premier ministre. La RCA a failli vivre cette situation au temps du Président Patassé avec la CODEPPO (Concertation des Partis Politiques d’Opposition) avec Abel Ngoumba en tête ; mais c’est M. Koudoufara qui, après les élections de 1999, a basculé, du jour au lendemain, dans le camp présidentiel en portant le nombre des députés à 55 contre 54 au profit de la majorité présidentielle, alors qu’il était membre de l’opposition et qu’il a toujours participé aux réunions de cette opposition, d’où le terme koudoufarisme dans les milieux politique et universitaire. Avec le système de cohabitation le pays fonctionne comme un véritable régime parlementaire comme en Grande Bretagne, le champ d’action du Président de la République est réduit au profit de celui son Premier Ministre, car fortement soutenu par une Assemblée Nationale à majorité, et dans le cas centrafricain hostile à la politique du Chef de l’Etat.\\nPar contre, si la majorité à l’assemblée nationale est détenue par la mouvance présidentielle, c’est au président de la république de choisir librement son premier ministre, et généralement quelqu’un de son entourage politique ou professionnel. A partir de là, le pays fonctionne presque comme un régime présidentiel comme aux États-Unis, mais en technique juridique on parle plutôt de régime présidentialiste.\\n2. Les cas de cessation de fonctions du Premier Ministre\\nEn ce qui concerne la cessation de fonctions du Premier Ministre, ce dernier peut quitter ses fonctions dans 3 cas possibles. Le premier est le décès ou l’incapacité définitive, et la Constitution centrafricaine n’en a aucunement fait mention en ce qui concerne le Premier ministre. Les deux autres cas sont prévus par l’article 53 al. 1 de la Constitution qui dispose que le Premier ministre est à la fois responsable devant le Président de la République et devant l’assemblée nationale.\\n- Le Premier Ministre est responsable devant le Président de la République\\nLe Premier ministre est responsable devant le Président de la République signifie que le Président de la République peut démettre le Premier ministre ou exiger sa démission. C’est en cela que l’article 33 al. 6a de la Constitution dispose que le Président de la République nomme le Premier ministre et il met fin à ses fonctions.\\nDans ce cas précis, la Constitution donne au Président de la République une certaine possibilité d’user de son pouvoir discrétionnaire, soit en nommant un Premier Ministre aux fins d’assurer l’intérim et il doit choisir selon l’ordre de préséance, c’est l’alinéa 2 de l’art. 56 de la Constitution qui le dit. Cependant, la Constitution ne lui impose rien quant au contenu ou à l’intitulé du décret, s’il faudrait mettre le terme intérim ou non, la Constitution ne l’a pas dit, la Constitution a simplement précisé « selon l’ordre de préséance », ce qui signifie que le Chef de l’Etat est absolument libre quant à la forme du décret.\\nEn choisissant Monsieur Félix MOLOUA comme Premier ministre, le Chef de l’Etat a clairement opté pour l’intérim et comme la Constitution ne lui impose pas que le décret de nomination doit porter la mention intérim, il est resté dans sa simplicité légendaire afin de ne pas briser l’élan des membres de son Gouvernement, eu égard aux différentes lettres de mission à leur assigner par lui.\\nConséquence : pas nécessaire de former un nouveau Gouvernement\\nLa Constitution, en son article 33 al. 6b, dit aussi que c’est sur proposition du Premier ministre que le Président de la République met fin aux fonctions des membres du Gouvernement. Le Premier ministre Henri Marie Dondra a remis sa démission et non celle de son gouvernement, donc c’est à l’actuel Premier ministre de remettre cette démission et c’est absurde, ou avec le temps proposer la destitution d’un ministre.\\nEn sus , le décret portant nomination de Monsieur Felix MOLOUA PM n’abroge pas les dispositions antérieures contraires. En conséquence, le PM reste Ministre d’Etat au Plan et à la Coopération internationale. Donc pas nécessaire de former un nouveau Gouvernement, mais le Chef de l’Etat n’aura qu’à choisir, de son propre gré, un Ministre en remplacement de Monsieur Felix MOLOUA, ou encore le Président de la République pourra faire assurer son intérim par un autre ministre. La Constitution ne lui impose rien en la matière, c’est ce qu’on appelle le pouvoir discrétionnaire du Chef de l’Etat à lui accorder par la Constitution. C’est toujours au nom de ce pouvoir discrétionnaire que le Président de la République pourra former un nouveau Gouvernement autour de Monsieur Felix MOLOUA.\\n- Le Premier Ministre est responsable devant l’assemblée nationale\\nLe Premier ministre est responsable devant l’assemblée nationale signifie que l’assemblée nationale peut voter une Motion de censure pour renverser le gouvernement. La Motion de censure est votée par l’assemblée nationale dans 3 cas spécifiques :\\n*Pour uniquement renverser le gouvernement, en conséquence, un nouveau Gouvernement doit être formé ;\\n*Pour désapprouver la politique générale du Gouvernement, car l’article 54 de la Constitution dispose que dans un délai maximum de soixante (60 jours) après la formation du Gouvernement, le PM doit exposer devant l’assemblée nationale le programme de sa politique générale. A cette occasion, il doit demander un vote de confiance qui peut lui être accordé ou refusé par une Motion de censure.\\n*Pour engager la responsabilité du Gouvernement devant l’assemblée nationale sur le vote d’un texte délibéré en Conseil des ministres.\\nConséquence : la formation d’un nouveau Gouvernement est obligatoire\\nCe qu’il faut noter ici, c’est que contrairement à la destitution intuitu personae du PM par le Président de République, la Motion de censure est dirigée contre l’ensemble du Gouvernement et c’est l’article 56 de la Constitution qui le dit en ces termes : « Lorsque l’Assemblee nationale adopte une Motion de censure ou lorsqu’elle désapprouve le programme ou une déclaration de politique générale du Gouvernement, le premier ministre remet, sans délai, la démission de son Gouvernement au Président de la République ». Et la Constitution de préciser en son article 61 que le texte de mise en cause de la responsabilité du Gouvernement doit obligatoirement porter l’intitulé « MOTION DE CENSURE », ce qui n’est pas le cas pour le décret d’intérim.\\nJe vous remercie !Le Président Touadéra et son nouveau Premier Ministre ont-t-ils une obligation constitutionnelle de former un nouveau Gouvernement ?\\nAprès avoir mis fins aux fonctions de Premier ministre de Monsieur Henri Marie Dondra, le Président de la République a nommé Monsieur Felix MOLOUA comme Chef du Gouvernement aux fins d’assurer lesdites fonctions. Suite à cette nomination, des commentaires et analyses se sont alliés bon train, tant de la part des praticiens du droit que des simples citoyens. J’ai été abordé par plusieurs personnes sollicitant mon avis de Constitutionnaliste, tant au bureau que dans les rues ou par téléphone. Je félicite le public centrafricain pour cet engouement et cette volonté qui vise à ne pas céder à la manipulation délibérée de certaines personnes guidées par leurs intérêts égoïstes.\\nLa question posée ici est celle de savoir si juridiquement le Président Touadéra et son nouveau Premier Ministre ont-t-ils une obligation de former un nouveau Gouvernement ou non. D’emblée , pour répondre à certains compatriotes sur le fondement d’une telle nomination qui, selon eux, a l’allure d’un certain copinage alors qu’il y a des compétences dans l’opposition, je dis que la Constitution du 30 mars 2016 est le texte fondamental en République Centrafricaine. Cette Constitution est l’émanation de la volonté du Peuple Centrafricain qui en est le pouvoir constituant originaire, car ce peuple l’a librement adoptée par référendum le 27 décembre 2015 à travers la voie des urnes.\\nC’est le Peuple Centrafricain qui est le véritable détenteur du pouvoir, le Président de la République n’est, en des termes plus banales, qu’un garçon de courses à disposition du Peuple et il reste toujours et généralement un garçon de courses à qui l’on demande beaucoup et est toujours incompris, malheureusement. Chaque acte posé par le Chef de l’Etat doit être conforme à la Constitution sinon son acte fera l’objet d’un recours en contrôle de constitutionnalité. Ce qu’il faudrait noter est que la nomination du nouveau Premier ministre est conforme à Constitution, il n’y a rien de copinage et nous allons voir pourquoi.\\nEn effet , c’est sur la base de cette Constitution que mon avis est fondé sur chacune de vos questions ainsi qu’il suit :\\n1. La condition sine qua non pour nommer un Premier Ministre en RCA\\nIl n’y a qu’une seule manière de devenir Premier ministre, c’est par la nomination quelque soit la borne politique. La République Centrafricaine est un pays à régime semi-présidentiel. En conséquence, pour nommer le Premier ministre, le Chef de l’Etat doit préalablement tenir compte de la majorité à l’Assemblée Nationale.\\nSi la majorité à l’Assemblée Nationale est détenue par les partis politiques d’opposition et leurs alliés, c’est à eux de proposer le Premier ministre et le Président de la République va tout simplement prendre un décret pour le nommer. Le pays va vivre une période de cohabitation, car les deux têtes de l’exécutif ne sont pas issues du même borne politique. La France a déjà vécu cette situation avec le président Mitterand et Jacques Chirac comme Premier ministre, et aussi avec Jacques Chirac lorsqu’il était président et Lionel Jospin comme Premier ministre. La RCA a failli vivre cette situation au temps du Président Patassé avec la CODEPPO (Concertation des Partis Politiques d’Opposition) avec Abel Ngoumba en tête ; mais c’est M. Koudoufara qui, après les élections de 1999, a basculé, du jour au lendemain, dans le camp présidentiel en portant le nombre des députés à 55 contre 54 au profit de la majorité présidentielle, alors qu’il était membre de l’opposition et qu’il a toujours participé aux réunions de cette opposition, d’où le terme koudoufarisme dans les milieux politique et universitaire. Avec le système de cohabitation le pays fonctionne comme un véritable régime parlementaire comme en Grande Bretagne, le champ d’action du Président de la République est réduit au profit de celui son Premier Ministre, car fortement soutenu par une Assemblée Nationale à majorité, et dans le cas centrafricain hostile à la politique du Chef de l’Etat.\\nPar contre, si la majorité à l’assemblée nationale est détenue par la mouvance présidentielle, c’est au président de la république de choisir librement son premier ministre, et généralement quelqu’un de son entourage politique ou professionnel. A partir de là, le pays fonctionne presque comme un régime présidentiel comme aux États-Unis, mais en technique juridique on parle plutôt de régime présidentialiste.\\n2. Les cas de cessation de fonctions du Premier Ministre\\nEn ce qui concerne la cessation de fonctions du Premier Ministre, ce dernier peut quitter ses fonctions dans 3 cas possibles. Le premier est le décès ou l’incapacité définitive, et la Constitution centrafricaine n’en a aucunement fait mention en ce qui concerne le Premier ministre. Les deux autres cas sont prévus par l’article 53 al. 1 de la Constitution qui dispose que le Premier ministre est à la fois responsable devant le Président de la République et devant l’assemblée nationale.\\n- Le Premier Ministre est responsable devant le Président de la République\\nLe Premier ministre est responsable devant le Président de la République signifie que le Président de la République peut démettre le Premier ministre ou exiger sa démission. C’est en cela que l’article 33 al. 6a de la Constitution dispose que le Président de la République nomme le Premier ministre et il met fin à ses fonctions.\\nDans ce cas précis, la Constitution donne au Président de la République une certaine possibilité d’user de son pouvoir discrétionnaire, soit en nommant un Premier Ministre aux fins d’assurer l’intérim et il doit choisir selon l’ordre de préséance, c’est l’alinéa 2 de l’art. 56 de la Constitution qui le dit. Cependant, la Constitution ne lui impose rien quant au contenu ou à l’intitulé du décret, s’il faudrait mettre le terme intérim ou non, la Constitution ne l’a pas dit, la Constitution a simplement précisé « selon l’ordre de préséance », ce qui signifie que le Chef de l’Etat est absolument libre quant à la forme du décret.\\nEn choisissant Monsieur Félix MOLOUA comme Premier ministre, le Chef de l’Etat a clairement opté pour l’intérim et comme la Constitution ne lui impose pas que le décret de nomination doit porter la mention intérim, il est resté dans sa simplicité légendaire afin de ne pas briser l’élan des membres de son Gouvernement, eu égard aux différentes lettres de mission à leur assigner par lui.\\nConséquence : pas nécessaire de former un nouveau Gouvernement\\nLa Constitution, en son article 33 al. 6b, dit aussi que c’est sur proposition du Premier ministre que le Président de la République met fin aux fonctions des membres du Gouvernement. Le Premier ministre Henri Marie Dondra a remis sa démission et non celle de son gouvernement, donc c’est à l’actuel Premier ministre de remettre cette démission et c’est absurde, ou avec le temps proposer la destitution d’un ministre.\\nEn sus , le décret portant nomination de Monsieur Felix MOLOUA PM n’abroge pas les dispositions antérieures contraires. En conséquence, le PM reste Ministre d’Etat au Plan et à la Coopération internationale. Donc pas nécessaire de former un nouveau Gouvernement, mais le Chef de l’Etat n’aura qu’à choisir, de son propre gré, un Ministre en remplacement de Monsieur Felix MOLOUA, ou encore le Président de la République pourra faire assurer son intérim par un autre ministre. La Constitution ne lui impose rien en la matière, c’est ce qu’on appelle le pouvoir discrétionnaire du Chef de l’Etat à lui accorder par la Constitution. C’est toujours au nom de ce pouvoir discrétionnaire que le Président de la République pourra former un nouveau Gouvernement autour de Monsieur Felix MOLOUA.\\n- Le Premier Ministre est responsable devant l’assemblée nationale\\nLe Premier ministre est responsable devant l’assemblée nationale signifie que l’assemblée nationale peut voter une Motion de censure pour renverser le gouvernement. La Motion de censure est votée par l’assemblée nationale dans 3 cas spécifiques :\\n*Pour uniquement renverser le gouvernement, en conséquence, un nouveau Gouvernement doit être formé ;\\n*Pour désapprouver la politique générale du Gouvernement, car l’article 54 de la Constitution dispose que dans un délai maximum de soixante (60 jours) après la formation du Gouvernement, le PM doit exposer devant l’assemblée nationale le programme de sa politique générale. A cette occasion, il doit demander un vote de confiance qui peut lui être accordé ou refusé par une Motion de censure.\\n*Pour engager la responsabilité du Gouvernement devant l’assemblée nationale sur le vote d’un texte délibéré en Conseil des ministres.\\nConséquence : la formation d’un nouveau Gouvernement est obligatoire\\nCe qu’il faut noter ici, c’est que contrairement à la destitution intuitu personae du PM par le Président de République, la Motion de censure est dirigée contre l’ensemble du Gouvernement et c’est l’article 56 de la Constitution qui le dit en ces termes : « Lorsque l’Assemblee nationale adopte une Motion de censure ou lorsqu’elle désapprouve le programme ou une déclaration de politique générale du Gouvernement, le premier ministre remet, sans délai, la démission de son Gouvernement au Président de la République ». Et la Constitution de préciser en son article 61 que le texte de mise en cause de la responsabilité du Gouvernement doit obligatoirement porter l’intitulé « MOTION DE CENSURE », ce qui n’est pas le cas pour le décret d’intérim.\\nJe vous remercie !', 'post_url': 'https://mbasic.facebook.com/MarioAzouPassonda/posts/5584371878256886?__cft__[0]=AZVeNjHRwcd25Of--hlH6yKpm9C4ycMu1mrfGA6iLWi1eczCY-iCo7tuiTlmcMwNBkXpWHxCehMYTwBYACUZqDruQO6QjKc2B09YnIpZjSKYmQ&__tn__=%2CO%2CP-R'}\n",
      "{'_id': ObjectId('62506ec51a08b23f57b1426f'), 'subject': 'Elections in france', 'text': '😞❤️😞❤️', 'post_url': 'https://mbasic.facebook.com/MoumniMahmoud/posts/3039083066359358?from_close_friend=1&notif_id=1649282550945232&notif_t=close_friend_activity&ref=notif'}\n",
      "{'_id': ObjectId('62506ed51a08b23f57b14270'), 'subject': 'Elections in france', 'text': '#Presidentielle2022 Cité par The National: \"Marine Le Pen présidente de la #France, ce serait la Hongrie de Viktor Orbán. Le salut au drapeau pour les enfants, le nationalisme économique, le quasi-arrêt de l\\'#immigration, la quasi-impossibilité de devenir Français, et de facto un dangereux État policier.\"#Presidentielle2022 Cité par The National: \"Marine Le Pen présidente de la #France, ce serait la Hongrie de Viktor Orbán. Le salut au drapeau pour les enfants, le nationalisme économique, le quasi-arrêt de l\\'#immigration, la quasi-impossibilité de devenir Français, et de facto un dangereux État policier.\"How Marine Le Pen French election win would change France\\nthenationalnews.comHow Marine Le Pen French election win would change France\\nthenationalnews.comthenationalnews.com', 'post_url': 'https://mbasic.facebook.com/thomasguenoleb/posts/502193831366444?__cft__[0]=AZUvXX-OkmfQ75yxQ-e4Y6k83ubMbVwgFtFbfehpVSMd2gSa1us05-JAawQurpgNSuLB1-93zyvI_zfKCtK0o1JtdpwVotZTtjGFMRRNTD4VWsDPKHVFFVdBf2DknL1lUyA&__tn__=%2CO%2CP-R'}\n",
      "{'_id': ObjectId('62506ee41a08b23f57b14271'), 'subject': 'Elections in france', 'text': \"🇫🇷 Want to know more about France's presidential election? Here's our explainer.🇫🇷 Want to know more about France's presidential election? Here's our explainer.France election: When is it? How does it work? Who's leading the race?\\neuronews.comFrance election: When is it? How does it work? Who's leading the race?\\neuronews.comeuronews.com\", 'post_url': 'https://mbasic.facebook.com/euronews/posts/10159241854133110?__cft__[0]=AZVotcdscEkz1Lz2jXgPm4hsnKQyYdUjlJHjC8vntDIhSLd4POtV3F26qLQxytWpG00JTpOzRY9U_NCvsgZ4z3E4GQsG8iCzDIijF17NBFn9Tli9LkIE4dFctmJIDS2GVB4&__tn__=%2CO%2CP-R'}\n",
      "{'_id': ObjectId('62506f031a08b23f57b14272'), 'subject': 'Elections in france', 'text': \"Suddenly confronted with the possibility of far-right candidate Marine Le Pen winning this month's French presidential elections against incumbent Emmanuel Macron, traders are scrambling to hedge portfolios against the risk of market turmoil.Suddenly confronted with the possibility of far-right candidate Marine Le Pen winning this month's French presidential elections against incumbent Emmanuel Macron, traders are scrambling to hedge portfolios against the risk of market turmoil.French elections: Hedging for Macron's exit\\nreuters.comFrench elections: Hedging for Macron's exit\\nreuters.comreuters.com\", 'post_url': 'https://mbasic.facebook.com/Reuters/posts/5558426110844366?__cft__[0]=AZVZVgMwK0546gHaRYC0Ly56wvHmGcP93YwUp1m-aMSCchsWmaJ16BB9yhLZWtBubpEfyso8o7dBaimbfy6Zi3O1tsm_9noa7Krmp0VZpx-08XlXa3tSsdsrjXXlcKfWqPc&__tn__=%2CO%2CP-R'}\n",
      "{'_id': ObjectId('62506f151a08b23f57b14273'), 'subject': 'Elections in france', 'text': '', 'post_url': 'https://mbasic.facebook.com/trtworld/posts/348038634025051?__cft__[0]=AZXecXc9FukT0a2iGPIy8c2iepfgKefQ-spRy7VIPiYRPP_yCE5SRxW3sgIxzYZXXKzDH3NnHGaLNAV_A0iUbsbuF9NP-r2KNqDGNjYAssV9Zr6pS-pip21JL1S5vGjlGyof89LhKmeJ_yBexjghxhHu&__tn__=%2CO%2CP-R'}\n"
     ]
    }
   ],
   "source": [
    "for post_element in db[\"post\"].find():\n",
    "    print(post_element)"
   ]
  }
 ],
 "metadata": {
  "kernelspec": {
   "display_name": "Python 3 (ipykernel)",
   "language": "python",
   "name": "python3"
  },
  "language_info": {
   "codemirror_mode": {
    "name": "ipython",
    "version": 3
   },
   "file_extension": ".py",
   "mimetype": "text/x-python",
   "name": "python",
   "nbconvert_exporter": "python",
   "pygments_lexer": "ipython3",
   "version": "3.9.7"
  }
 },
 "nbformat": 4,
 "nbformat_minor": 5
}
